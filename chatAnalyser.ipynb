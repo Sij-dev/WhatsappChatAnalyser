{
 "cells": [
  {
   "cell_type": "code",
   "execution_count": 1,
   "metadata": {},
   "outputs": [],
   "source": [
    "import re\n",
    "import regex\n",
    "import pandas as pd\n",
    "import numpy as np\n",
    "import emoji\n",
    "import plotly.express as px \n",
    "from collections import Counter\n",
    "import nltk \n",
    "from nltk.tokenize import word_tokenize\n",
    "from nltk.probability import FreqDist\n",
    "from nltk.corpus import stopwords\n",
    "import datetime\n",
    "import matplotlib.pyplot as plt\n",
    "import seaborn as sns\n",
    "from os import path\n",
    "from PIL import Image\n",
    "from wordcloud import WordCloud, STOPWORDS, ImageColorGenerator\n",
    "%matplotlib inline"
   ]
  },
  {
   "cell_type": "code",
   "execution_count": 2,
   "metadata": {},
   "outputs": [],
   "source": [
    "def startsWithDateAndTime(s):\n",
    "    # regex pattern for date.(Works only for android. IOS Whatsapp export format is different. Will update the code soon\n",
    "    #pattern = '^([0-9]+)(\\/)([0-9]+)(\\/)([0-9][0-9]), ([0-9]+):([0-9][0-9]) (AM|PM) -'\n",
    "    pattern = '^\\d{1,2}/\\d{1,2}/\\d{1,4}, \\d{1,2}:\\d{1,2}\\S [AaPp][Mm] -'\n",
    "    \n",
    "    #02/01/2021, 1:57 pm \n",
    "    \n",
    "    result = re.match(pattern, s)\n",
    "    #print(result)\n",
    "    if result:\n",
    "        return True\n",
    "    return False\n",
    "  \n",
    "# Finds username of any given format.\n",
    "def FindAuthor(s):\n",
    "\n",
    "    patterns = [\n",
    "        #'([\\w]+):',                        # First Name\n",
    "        #' [a-zA-Z]:',\n",
    "        '[\\s]?[a-zA-Z]+:',\n",
    "        '[\\s]?[a-zA-Z]+ [a-zA-Z]+:',\n",
    "        '[\\s]?[a-zA-Z]+ [a-zA-Z]+ [a-zA-Z]+:',\n",
    "     #   '[a-zA-Z]+ [a-zA-Z]+:',\n",
    "        ' \\+([0-9]+( [0-9]+)+):',\n",
    "        '\\+([0-9]+( [0-9]+)+):',\n",
    "        '(([+-]?(?=\\.\\d|\\d)(?:\\d+)?(?:\\.?\\d*))(?:[eE]([+-]?\\d+))?( ([+-]?(?=\\.\\d|\\d)(?:\\d+)?(?:\\.?\\d*))(?:[eE]([+-]?\\d+))?)+):',\n",
    "        '[a-zA-Z]+[\\u263a-\\U0001f999]:',\n",
    "        ' [a-zA-Z]+[\\u263a-\\U0001f999]:'\n",
    "        \n",
    "    #     '([\\w]+[\\s]+[\\w]+):',              # First Name + Last Name\n",
    "    #     '([\\w]+[\\s]+[\\w]+[\\s]+[\\w]+):',    # First Name + Middle Name + Last Name\n",
    "    #     '([+]\\d{2} \\d{5} \\d{5}):',         # Mobile Number (India)\n",
    "    #     '([+]\\d{2} \\d{3} \\d{3} \\d{4}):',   # Mobile Number (US)\n",
    "    #     '([\\w]+)[\\u263a-\\U0001f999]+:',    # Name and Emoji              \n",
    "    ]\n",
    "     \n",
    "    pattern = '^' + '|'.join(patterns)\n",
    "    #print(pattern)\n",
    "    result = re.match(pattern, s)\n",
    "    #print(result)\n",
    "\n",
    "    if result:\n",
    "        return True\n",
    "    return False\n",
    "  \n",
    "def getDataPoint(line): \n",
    "    #print(line)  \n",
    "    splitLine = line.split('-') \n",
    "    #print(splitLine)\n",
    "    dateTime = splitLine[0]\n",
    "    date, time = dateTime.split(', ') \n",
    "    message = ' '.join(splitLine[1:])\n",
    "    if FindAuthor(message): \n",
    "        splitMessage = message.split(': ') \n",
    "        author = splitMessage[0] \n",
    "        message = ' '.join(splitMessage[1:])\n",
    "        #print(message)\n",
    "    else:\n",
    "        author = None\n",
    "    return date, time, author, message\n",
    "\n"
   ]
  },
  {
   "cell_type": "code",
   "execution_count": 3,
   "metadata": {},
   "outputs": [
    {
     "name": "stdout",
     "output_type": "stream",
     "text": [
      "in break\n"
     ]
    }
   ],
   "source": [
    "parsedData = [] # List to keep track of data so it can be used by a Pandas dataframe\n",
    "# Upload your file here\n",
    "conversationPath = './data/WhatsAppChatwithEACEA2001Batch.txt' # chat file\n",
    "with open(conversationPath, encoding=\"utf-8\") as fp:\n",
    "    msg = fp.readline() # Skipping first line of the file because contains information related to something about end-to-end encryption\n",
    "    messageBuffer = [] \n",
    "    #print(msg)\n",
    "    date, time, author = None, None, None\n",
    "    while True:\n",
    "        line = fp.readline()\n",
    "        if not line:\n",
    "            print(\"in break\")\n",
    "            break\n",
    "        line = line.strip() \n",
    "        if startsWithDateAndTime(line): \n",
    "            #print(line)\n",
    "            if len(messageBuffer) > 0: \n",
    "                parsedData.append([date, time, author, ' '.join(messageBuffer)]) \n",
    "                #print(parsedData)\n",
    "            messageBuffer.clear() \n",
    "            date, time, author, message = getDataPoint(line) \n",
    "            messageBuffer.append(message)\n",
    "            #print(messageBuffer)\n",
    "        else:\n",
    "            messageBuffer.append(line)"
   ]
  },
  {
   "cell_type": "code",
   "execution_count": null,
   "metadata": {},
   "outputs": [],
   "source": [
    "   \n",
    "df = pd.DataFrame(parsedData, columns=['Date', 'Time', 'Author', 'Message']) # Initialising a pandas Dataframe.\n",
    "df[\"Date\"] = pd.to_datetime(df[\"Date\"])"
   ]
  },
  {
   "cell_type": "code",
   "execution_count": 5,
   "metadata": {},
   "outputs": [
    {
     "data": {
      "text/html": [
       "<div>\n",
       "<style scoped>\n",
       "    .dataframe tbody tr th:only-of-type {\n",
       "        vertical-align: middle;\n",
       "    }\n",
       "\n",
       "    .dataframe tbody tr th {\n",
       "        vertical-align: top;\n",
       "    }\n",
       "\n",
       "    .dataframe thead th {\n",
       "        text-align: right;\n",
       "    }\n",
       "</style>\n",
       "<table border=\"1\" class=\"dataframe\">\n",
       "  <thead>\n",
       "    <tr style=\"text-align: right;\">\n",
       "      <th></th>\n",
       "      <th>Date</th>\n",
       "      <th>Time</th>\n",
       "      <th>Author</th>\n",
       "      <th>Message</th>\n",
       "    </tr>\n",
       "  </thead>\n",
       "  <tbody>\n",
       "    <tr>\n",
       "      <th>0</th>\n",
       "      <td>2015-06-23</td>\n",
       "      <td>8:15 pm</td>\n",
       "      <td>None</td>\n",
       "      <td>+91 98817 24864 created group \"EA CEA 2001 Ba...</td>\n",
       "    </tr>\n",
       "    <tr>\n",
       "      <th>1</th>\n",
       "      <td>2021-02-01</td>\n",
       "      <td>1:57 pm</td>\n",
       "      <td>None</td>\n",
       "      <td>You joined using this group's invite link</td>\n",
       "    </tr>\n",
       "    <tr>\n",
       "      <th>2</th>\n",
       "      <td>2021-02-01</td>\n",
       "      <td>1:58 pm</td>\n",
       "      <td>Anisha ranjith</td>\n",
       "      <td>welcome Sijesh</td>\n",
       "    </tr>\n",
       "    <tr>\n",
       "      <th>3</th>\n",
       "      <td>2021-02-01</td>\n",
       "      <td>2:01 pm</td>\n",
       "      <td>Anisha ranjith</td>\n",
       "      <td>Ok thanks everyone for joining the zoom call</td>\n",
       "    </tr>\n",
       "    <tr>\n",
       "      <th>4</th>\n",
       "      <td>2021-02-01</td>\n",
       "      <td>2:01 pm</td>\n",
       "      <td>Anisha ranjith</td>\n",
       "      <td>It was a wonderful one as always</td>\n",
       "    </tr>\n",
       "  </tbody>\n",
       "</table>\n",
       "</div>"
      ],
      "text/plain": [
       "        Date      Time           Author  \\\n",
       "0 2015-06-23  8:15 pm              None   \n",
       "1 2021-02-01  1:57 pm              None   \n",
       "2 2021-02-01  1:58 pm    Anisha ranjith   \n",
       "3 2021-02-01  2:01 pm    Anisha ranjith   \n",
       "4 2021-02-01  2:01 pm    Anisha ranjith   \n",
       "\n",
       "                                             Message  \n",
       "0   +91 98817 24864 created group \"EA CEA 2001 Ba...  \n",
       "1          You joined using this group's invite link  \n",
       "2                                     welcome Sijesh  \n",
       "3       Ok thanks everyone for joining the zoom call  \n",
       "4                   It was a wonderful one as always  "
      ]
     },
     "execution_count": 5,
     "metadata": {},
     "output_type": "execute_result"
    }
   ],
   "source": [
    "df.head()"
   ]
  },
  {
   "cell_type": "code",
   "execution_count": 6,
   "metadata": {},
   "outputs": [
    {
     "data": {
      "text/plain": [
       " Athira CEA          2091\n",
       " Anisha ranjith      1447\n",
       " Devi CEA            1326\n",
       " Umesh CEA           1173\n",
       " Femina               804\n",
       " Deepu CEA            684\n",
       " GT Australia         494\n",
       " Rahul Engg           368\n",
       " +91 80890 89031      368\n",
       " Ratheesh Kamu        333\n",
       " +91 98473 11000      321\n",
       " SijeshP              228\n",
       " Mangal               215\n",
       " +971 50 920 3301     202\n",
       " +91 94462 26739      159\n",
       "Name: Author, dtype: int64"
      ]
     },
     "execution_count": 6,
     "metadata": {},
     "output_type": "execute_result"
    }
   ],
   "source": [
    "df['Author'].value_counts()[:15]"
   ]
  },
  {
   "cell_type": "code",
   "execution_count": 7,
   "metadata": {},
   "outputs": [
    {
     "name": "stdout",
     "output_type": "stream",
     "text": [
      "<class 'pandas.core.frame.DataFrame'>\n",
      "RangeIndex: 11100 entries, 0 to 11099\n",
      "Data columns (total 4 columns):\n",
      " #   Column   Non-Null Count  Dtype         \n",
      "---  ------   --------------  -----         \n",
      " 0   Date     11100 non-null  datetime64[ns]\n",
      " 1   Time     11100 non-null  object        \n",
      " 2   Author   11037 non-null  object        \n",
      " 3   Message  11100 non-null  object        \n",
      "dtypes: datetime64[ns](1), object(3)\n",
      "memory usage: 347.0+ KB\n"
     ]
    }
   ],
   "source": [
    "df.info()"
   ]
  },
  {
   "cell_type": "code",
   "execution_count": 17,
   "metadata": {},
   "outputs": [],
   "source": [
    "df.dropna(inplace = True)"
   ]
  },
  {
   "cell_type": "code",
   "execution_count": 18,
   "metadata": {},
   "outputs": [
    {
     "name": "stdout",
     "output_type": "stream",
     "text": [
      "<class 'pandas.core.frame.DataFrame'>\n",
      "Int64Index: 11037 entries, 2 to 11099\n",
      "Data columns (total 6 columns):\n",
      " #   Column    Non-Null Count  Dtype         \n",
      "---  ------    --------------  -----         \n",
      " 0   Date      11037 non-null  datetime64[ns]\n",
      " 1   Time      11037 non-null  object        \n",
      " 2   Author    11037 non-null  object        \n",
      " 3   Message   11037 non-null  object        \n",
      " 4   emoji     11037 non-null  object        \n",
      " 5   urlcount  11037 non-null  int64         \n",
      "dtypes: datetime64[ns](1), int64(1), object(4)\n",
      "memory usage: 603.6+ KB\n"
     ]
    }
   ],
   "source": [
    "df.info()"
   ]
  },
  {
   "cell_type": "code",
   "execution_count": 10,
   "metadata": {},
   "outputs": [],
   "source": [
    "import emoji\n",
    "import regex\n",
    "\n",
    "def split_count(text):\n",
    "\n",
    "    emoji_list = []\n",
    "    data = regex.findall(r'\\X', text)\n",
    "    for word in data:\n",
    "        if any(char in emoji.UNICODE_EMOJI['en'] for char in word):\n",
    "            emoji_list.append(word)\n",
    "    \n",
    "    return emoji_list\n",
    "\n",
    "\n",
    "total_messages = df.shape[0]\n",
    "media_messages = df[df['Message'] == '<Media omitted>'].shape[0]\n",
    "df[\"emoji\"] = df[\"Message\"].apply(split_count)\n",
    "emojis = sum(df['emoji'].str.len())\n",
    "URLPATTERN = r'(https?://\\S+)'\n",
    "df['urlcount'] = df.Message.apply(lambda x: re.findall(URLPATTERN, x)).str.len()\n",
    "links = np.sum(df.urlcount)"
   ]
  },
  {
   "cell_type": "code",
   "execution_count": 21,
   "metadata": {},
   "outputs": [
    {
     "name": "stdout",
     "output_type": "stream",
     "text": [
      "==== Group Stats ==========\n",
      "Total Messages from Jan-2021  =  11100\n",
      "Media msgs                    =  2107\n",
      "Emojis                        =  10727\n",
      "Links                         =  301\n"
     ]
    }
   ],
   "source": [
    "print(\"==== Group Stats ==========\")\n",
    "print(\"Total Messages from Jan-2021  = \" ,total_messages )\n",
    "print(\"Media msgs                    = \", media_messages)\n",
    "print(\"Emojis                        = \", emojis )\n",
    "print(\"Links                         = \", links)"
   ]
  },
  {
   "cell_type": "code",
   "execution_count": 23,
   "metadata": {},
   "outputs": [],
   "source": [
    "media_messages_df = df[df['Message'] == '<Media omitted>']\n",
    "messages_df = df.drop(media_messages_df.index)"
   ]
  },
  {
   "cell_type": "code",
   "execution_count": 24,
   "metadata": {},
   "outputs": [
    {
     "name": "stdout",
     "output_type": "stream",
     "text": [
      "There are 621434 words in all the messages.\n"
     ]
    }
   ],
   "source": [
    "text = \" \".join(review for review in messages_df.Message)\n",
    "print (\"There are {} words in all the messages.\".format(len(text)))"
   ]
  },
  {
   "cell_type": "code",
   "execution_count": null,
   "metadata": {},
   "outputs": [],
   "source": [
    "stopwords = set(STOPWORDS)\n",
    "stopwords.update([\"ra\", \"ga\", \"na\", \"ani\", \"em\", \"ki\", \"ah\",\"ha\",\"la\",\"eh\",\"ne\",\"le\"])\n",
    "# Generate a word cloud image\n",
    "wordcloud = WordCloud(stopwords=stopwords, background_color=\"white\").generate(text)\n",
    "# Display the generated image:\n",
    "# the matplotlib way:\n",
    "\n",
    "plt.figure( figsize=(10,5))\n",
    "plt.imshow(wordcloud, interpolation='bilinear')\n",
    "plt.axis(\"off\")\n",
    "plt.show()"
   ]
  }
 ],
 "metadata": {
  "interpreter": {
   "hash": "4934efe46eab57179a7997531fc7e1073e397a06b5934d14ae5cfb11fe499827"
  },
  "kernelspec": {
   "display_name": "Python 3.9.6 ('timeseries')",
   "language": "python",
   "name": "python3"
  },
  "language_info": {
   "codemirror_mode": {
    "name": "ipython",
    "version": 3
   },
   "file_extension": ".py",
   "mimetype": "text/x-python",
   "name": "python",
   "nbconvert_exporter": "python",
   "pygments_lexer": "ipython3",
   "version": "3.9.6"
  },
  "orig_nbformat": 4
 },
 "nbformat": 4,
 "nbformat_minor": 2
}
